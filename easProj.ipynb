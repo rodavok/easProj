{
 "cells": [
  {
   "cell_type": "code",
   "execution_count": 1,
   "metadata": {},
   "outputs": [
    {
     "name": "stdout",
     "output_type": "stream",
     "text": [
      "done\n"
     ]
    }
   ],
   "source": [
    "import matplotlib.pyplot as plt\n",
    "import geopandas\n",
    "import sqlite3\n",
    "import helpers\n",
    "import pandas as pd\n",
    "import numpy as np\n",
    "\n",
    "#The path to the .json file you downloaded from google drive\n",
    "data_source = r\".\\data\\policy.json\"\n",
    "\n",
    "#The path where you want the .db file to be saved\n",
    "database = r\".\\data\\policy.db\"\n",
    "\n",
    "#make_database creates a .db file from a .json file containing tweets\n",
    "helpers.make_database(data_source, database)\n",
    "conn = sqlite3.connect(database)\n",
    "\n",
    "#.shp files contains the data used to create a map of the USA\n",
    "#states is a GeoDataFrame, which has the features of a regular dataframe, but has some additional methods for working with coordinate data\n",
    "#states['NAME'] contains the name of the each state\n",
    "states_map_path =r\".\\data\\usa-states-census-2014.shp\"\n",
    "states = geopandas.read_file(states_map_path)\n",
    "\n",
    "#Use proper projection for North America\n",
    "states = states.to_crs('EPSG:3395')\n",
    "print('done')"
   ]
  },
  {
   "cell_type": "code",
   "execution_count": 2,
   "metadata": {},
   "outputs": [
    {
     "data": {
      "image/png": "[encoded data removed]",
      "text/plain": [
       "<Figure size 432x288 with 2 Axes>"
      ]
     },
     "metadata": {
      "needs_background": "light"
     },
     "output_type": "display_data"
    }
   ],
   "source": [
    "#This query gets the number of tweets per state\n",
    "ex_query = \"select u.state NAME, count(t.id) num_tweets from users u, tweets t where u.id = t.user_id group by u.state\"\n",
    "ex_df = pd.read_sql_query(ex_query, conn) \n",
    "\n",
    "#add the column to the states GeoDataFrame with a merge\n",
    "states = states.merge(ex_df, on='NAME', how='left')\n",
    "\n",
    "#Plot the map, and color the states based on the values in the newly added column\n",
    "#GoDataFrame.plot takes the following options:\n",
    "#column: column of dataframe that contains your values ('um_tweets'in this case)\n",
    "#cmap: color scheme to use - PuRd maps bolder colors to higher values\n",
    "#    Oher options can be found at: https://matplotlib.org/3.1.0/tutorials/colors/colormaps.html\n",
    "#    Should use a different color scheme for different plots\n",
    "states.plot(column='num_tweets', cmap='PuRd', legend=True)\n",
    "\n",
    "#make a title \n",
    "plt.title('Tweets Collected Per State')\n",
    "\n",
    "#x and y axes are displayed by default\n",
    "#but for this map they represent lat and long\n",
    "#which we don't need to show, so we'll\n",
    "#Get the Currently plotted Axes... \n",
    "ax = plt.gca()\n",
    "#And hide them\n",
    "ax.axes.xaxis.set_visible(False)\n",
    "ax.axes.yaxis.set_visible(False)\n",
    "\n",
    "plt.show()"
   ]
  },
  {
   "cell_type": "code",
   "execution_count": 3,
   "metadata": {},
   "outputs": [
    {
     "ename": "NameError",
     "evalue": "name 'tweets' is not defined",
     "output_type": "error",
     "traceback": [
      "\u001b[1;31m---------------------------------------------------------------------------\u001b[0m",
      "\u001b[1;31mNameError\u001b[0m                                 Traceback (most recent call last)",
      "\u001b[1;32m<ipython-input-3-4158df66e9f8>\u001b[0m in \u001b[0;36m<module>\u001b[1;34m\u001b[0m\n\u001b[1;32m----> 1\u001b[1;33m \u001b[0mtweets\u001b[0m\u001b[1;33m.\u001b[0m\u001b[0mhead\u001b[0m\u001b[1;33m(\u001b[0m\u001b[1;33m)\u001b[0m\u001b[1;33m\u001b[0m\u001b[1;33m\u001b[0m\u001b[0m\n\u001b[0m",
      "\u001b[1;31mNameError\u001b[0m: name 'tweets' is not defined"
     ]
    }
   ],
   "source": []
  }
 ],
 "metadata": {
  "kernelspec": {
   "display_name": "Python 3",
   "language": "python",
   "name": "python3"
  },
  "language_info": {
   "codemirror_mode": {
    "name": "ipython",
    "version": 3
   },
   "file_extension": ".py",
   "mimetype": "text/x-python",
   "name": "python",
   "nbconvert_exporter": "python",
   "pygments_lexer": "ipython3",
   "version": "3.8.5"
  }
 },
 "nbformat": 4,
 "nbformat_minor": 4
}
